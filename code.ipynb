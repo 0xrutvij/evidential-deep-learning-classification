{
 "cells": [
  {
   "cell_type": "code",
   "execution_count": null,
   "metadata": {},
   "outputs": [],
   "source": []
  }
 ],
 "metadata": {
  "kernelspec": {
   "display_name": "torch",
   "language": "python",
   "name": "python3"
  },
  "language_info": {
   "name": "python",
   "version": "3.10.9"
  },
  "orig_nbformat": 4,
  "vscode": {
   "interpreter": {
    "hash": "5022307f2de98eca4cf36c898a9a95ab7f925ce9e6f6248712ec862effd12bf6"
   }
  }
 },
 "nbformat": 4,
 "nbformat_minor": 2
}
